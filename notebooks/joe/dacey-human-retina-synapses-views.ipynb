{
 "cells": [
  {
   "cell_type": "markdown",
   "metadata": {},
   "source": [
    "# Using CAVE to query Dacey Human Retina Synapses  \n",
    "\n",
    "This notebook is a quick demo of accessing synapses in the [Dacey Human Retina dataset](https://spelunker.cave-explorer.org/#!middleauth+https://global.daf-apis.com/nglstate/api/v1/6089681650319360).\n",
    "\n",
    "For more details on using CAVE, see the [docs for CAVEclient](https://caveclient.readthedocs.io/en/latest/guide/intro.html) and look over the [notebooks in the MICrONS Binder](https://github.com/AllenInstitute/MicronsBinder/tree/master/notebooks/mm3_intro)."
   ]
  },
  {
   "cell_type": "code",
   "execution_count": null,
   "metadata": {
    "tags": []
   },
   "outputs": [],
   "source": [
    "# ! pip install caveclient\n",
    "# ! pip install caveclient==5.14.0\n",
    "# ! pip install nglui\n",
    "# ! pip install numpy"
   ]
  },
  {
   "cell_type": "code",
   "execution_count": null,
   "metadata": {
    "tags": []
   },
   "outputs": [],
   "source": [
    "from caveclient import CAVEclient\n",
    "from nglui.statebuilder import *\n",
    "import numpy as np\n",
    "import pandas as pd"
   ]
  },
  {
   "cell_type": "markdown",
   "metadata": {},
   "source": [
    "If you haven't gotten your CAVE token for this dataset, follow the function calls in [this notebook](https://github.com/AllenInstitute/MicronsBinder/blob/master/notebooks/mm3_intro/CAVEsetup.ipynb)."
   ]
  },
  {
   "cell_type": "code",
   "execution_count": null,
   "metadata": {
    "tags": []
   },
   "outputs": [],
   "source": [
    "# proofreading CAVEclient\n",
    "client = CAVEclient(\n",
    "    datastack_name=\"dacey_human_fovea\",\n",
    "    server_address=\"https://proofreading.zetta.ai\",\n",
    ")\n",
    "# state server CAVEclient\n",
    "state_client = CAVEclient()"
   ]
  },
  {
   "cell_type": "markdown",
   "metadata": {},
   "source": [
    "Here are all the views available. These are the three types of synapses that have been produced."
   ]
  },
  {
   "cell_type": "code",
   "execution_count": null,
   "metadata": {},
   "outputs": [],
   "source": [
    "client.materialize.views"
   ]
  },
  {
   "cell_type": "markdown",
   "metadata": {},
   "source": [
    "We'll collect them into a single list that we can use to easily query across all of them."
   ]
  },
  {
   "cell_type": "code",
   "execution_count": null,
   "metadata": {
    "tags": []
   },
   "outputs": [],
   "source": [
    "synapse_tables = ['ipl_inhib_synapses_v2_view', 'ipl_ribbon_synapses_v2_view', 'opl_synapses_v3_view']"
   ]
  },
  {
   "cell_type": "markdown",
   "metadata": {},
   "source": [
    "Writing two functions: \n",
    "1. `query_synapses`: query synapses across any subset of the tables (opl / ipl inhibitory / ipl ribbons) given pre &/or post ids  \n",
    "1. `df2ng`: make a neuroglancer link from a synapse dataframe  "
   ]
  },
  {
   "cell_type": "code",
   "execution_count": null,
   "metadata": {
    "tags": []
   },
   "outputs": [],
   "source": [
    "def query_synapses(pre_ids=None, post_ids=None, synapse_tables=synapse_tables):\n",
    "    \"\"\"\n",
    "    Query synapses for given pre_ids and/or post_ids across multiple synapse tables.\n",
    "\n",
    "    Parameters:\n",
    "        pre_ids (int or list, optional): Presynaptic ID(s) to query.\n",
    "        post_ids (int or list, optional): Postsynaptic ID(s) to query.\n",
    "        synapse_tables (list): A list of synapse table names to query.\n",
    "\n",
    "    Returns:\n",
    "        pd.DataFrame: A concatenated DataFrame of synapses from all tables.\n",
    "    \"\"\"\n",
    "    if pre_ids is None and post_ids is None:\n",
    "        raise ValueError(\"At least one of pre_ids or post_ids must be provided.\")\n",
    "\n",
    "    if not synapse_tables or not isinstance(synapse_tables, list):\n",
    "        raise ValueError(\"synapse_tables must be a non-empty list.\")\n",
    "\n",
    "    if isinstance(pre_ids, int):\n",
    "        pre_ids = [pre_ids]\n",
    "    if isinstance(post_ids, int):\n",
    "        post_ids = [post_ids]\n",
    "    \n",
    "    filter_in_dict = {}\n",
    "    if pre_ids is not None:\n",
    "        filter_in_dict[\"pre_pt_root_id\"] = pre_ids\n",
    "\n",
    "    if post_ids is not None:\n",
    "        filter_in_dict[\"post_pt_root_id\"] = post_ids\n",
    "    \n",
    "    all_synapses = []\n",
    "    for table_name in synapse_tables:\n",
    "        synapses = client.materialize.query_view(view_name=table_name, filter_in_dict=filter_in_dict)\n",
    "        synapses[\"synapse_table\"] = table_name\n",
    "        all_synapses.append(synapses)\n",
    "\n",
    "    combined_df = pd.concat(all_synapses, ignore_index=True)\n",
    "\n",
    "    return combined_df\n",
    "\n",
    "\n",
    "def df2ng(df):\n",
    "    \"\"\"\n",
    "    Produce a neuroglancer link from a synapse dataframe (e.g. output of query_synapses)\n",
    "    \"\"\"\n",
    "    if len(df) > 0:\n",
    "        img_source = client.info.image_source()\n",
    "        img_layer = ImageLayerConfig(name=\"img\", source=img_source)\n",
    "\n",
    "        seg_source = client.info.segmentation_source()\n",
    "        pre_layer = SegmentationLayerConfig(name=\"pre seg\", source=seg_source, selected_ids_column=[\"pre_pt_root_id\"], alpha_3d=0.8)\n",
    "        post_layer = SegmentationLayerConfig(name=\"post seg\", source=seg_source, selected_ids_column=[\"post_pt_root_id\"], alpha_3d=0.8)\n",
    "\n",
    "        # postsyn_source = \"precomputed://gs://zetta-prieto-godino-fly-larva-001-syn/nick-230507/30k/20230518212754\"\n",
    "        # postsyn_layer = SegmentationLayerConfig(name=\"postsynaptic terminals\", source=postsyn_source, selected_ids_column=\"id\")\n",
    "\n",
    "\n",
    "        bboxes = LineMapper(\n",
    "            point_column_a=\"pre_pt_position\",\n",
    "            point_column_b=\"post_pt_position\",\n",
    "            linked_segmentation_column=[\"pre_pt_root_id\",\"post_pt_root_id\"],\n",
    "            description_column=\"id\",\n",
    "        )\n",
    "        syn_layer = AnnotationLayerConfig(name=\"synapses\", mapping_rules=bboxes, active=True, filter_by_segmentation=True, linked_segmentation_layer=\"post seg\")\n",
    "        \n",
    "        ribbon_layer = SegmentationLayerConfig(name=\"ribbons\", source=\"precomputed://gs://dacey-human-retina-001-synapse/240824_ribbon/240828_seg\", alpha_3d=0.8)\n",
    "        vesicle_cloud_layer = SegmentationLayerConfig(name=\"inh vesicle cloud\", source=\"precomputed://gs://dacey-human-retina-001-synapse/240824_vesicle_cloud/240828_seg\", alpha_3d=0.8)\n",
    "\n",
    "        sb = StateBuilder(\n",
    "            [img_layer, pre_layer, post_layer, syn_layer, ribbon_layer, vesicle_cloud_layer],\n",
    "            target_site = \"cave-explorer\",\n",
    "            resolution = [20,20,50],\n",
    "            view_kws = {\"zoom_image\": 0.1}\n",
    "        )\n",
    "\n",
    "        ngl_base = 'https://spelunker.cave-explorer.org/'\n",
    "        state = sb.render_state(df, return_as=\"dict\", url_prefix=ngl_base)\n",
    "        new_id = state_client.state.upload_state_json(state)\n",
    "        url = state_client.state.build_neuroglancer_url(new_id, ngl_base)\n",
    "        return url\n",
    "    else:\n",
    "        print(\"No synapses\")\n",
    "        return None\n"
   ]
  },
  {
   "cell_type": "markdown",
   "metadata": {},
   "source": [
    "Let's also define a function to look up the note(s) for a given root ID."
   ]
  },
  {
   "cell_type": "code",
   "execution_count": null,
   "metadata": {},
   "outputs": [],
   "source": [
    "def get_cell_notes(root_id):\n",
    "    \"\"\"\n",
    "    Look up the note(s) associated with a given cell root ID.\n",
    "    These were notes attached to annotations used to assign cells to types.\n",
    "    Note that there could be more than one, in cases where there were\n",
    "    multiple annotations for the same cell.\n",
    "\n",
    "    Parameters:\n",
    "        root_id (int): root ID of cell of interest.\n",
    "\n",
    "    Returns:\n",
    "        list of strings: note(s) associated with that root ID.\n",
    "    \"\"\"\n",
    "\n",
    "    cell_types_df = client.materialize.query_view('root_cell_types', filter_in_dict={'root_id':[root_id]})\n",
    "    return cell_types_df['note'].tolist()\n",
    "\n",
    "get_cell_notes(504403158274161361)"
   ]
  },
  {
   "cell_type": "markdown",
   "metadata": {},
   "source": [
    "That's a simple function thanks to the `root_cell_types` view, which has columns `root_id` , `classification_system` (which we are not using), `cell_type`, and `note`.  Here's an example querying this view directly:"
   ]
  },
  {
   "cell_type": "code",
   "execution_count": null,
   "metadata": {},
   "outputs": [],
   "source": [
    "client.materialize.query_view('root_cell_types', filter_in_dict={'root_id':[504403158274161361]})"
   ]
  },
  {
   "cell_type": "markdown",
   "metadata": {},
   "source": [
    "Let's query for all the outgoing synapses from a cone."
   ]
  },
  {
   "cell_type": "code",
   "execution_count": null,
   "metadata": {
    "tags": []
   },
   "outputs": [],
   "source": [
    "cone_df = query_synapses(pre_ids=504403158274824096)\n",
    "df2ng(cone_df)"
   ]
  },
  {
   "cell_type": "markdown",
   "metadata": {},
   "source": [
    "Here's the pandas.DataFrame that was used to create the link above."
   ]
  },
  {
   "cell_type": "code",
   "execution_count": null,
   "metadata": {
    "tags": []
   },
   "outputs": [],
   "source": [
    "cone_df"
   ]
  },
  {
   "cell_type": "markdown",
   "metadata": {},
   "source": [
    "Let's query all the incoming synapses onto this bipolar cell."
   ]
  },
  {
   "cell_type": "code",
   "execution_count": null,
   "metadata": {
    "tags": []
   },
   "outputs": [],
   "source": [
    "bipolar_input_df = query_synapses(post_ids=504403158272810861)\n",
    "df2ng(bipolar_input_df)"
   ]
  },
  {
   "cell_type": "markdown",
   "metadata": {},
   "source": [
    "We can restrict it to only incoming synapses from cones if we only query the `opl_synapses_v3_view` table."
   ]
  },
  {
   "cell_type": "code",
   "execution_count": null,
   "metadata": {
    "tags": []
   },
   "outputs": [],
   "source": [
    "bipolar_input_cones_only_df = query_synapses(post_ids=504403158272810861, synapse_tables=[\"opl_synapses_v3_view\"])\n",
    "df2ng(bipolar_input_cones_only_df)"
   ]
  },
  {
   "cell_type": "markdown",
   "metadata": {},
   "source": [
    "We can query all the outgoing synapses from that bipolar cell, too."
   ]
  },
  {
   "cell_type": "code",
   "execution_count": null,
   "metadata": {
    "tags": []
   },
   "outputs": [],
   "source": [
    "bipolar_output_df = query_synapses(pre_ids=504403158272810861)\n",
    "df2ng(bipolar_output_df)"
   ]
  },
  {
   "cell_type": "markdown",
   "metadata": {},
   "source": [
    "Here's a neighboring amacrine cell, 504403158271095812, that received a synapse from 504403158272810861. Let's see if there are reciprocal synapses between them."
   ]
  },
  {
   "cell_type": "code",
   "execution_count": null,
   "metadata": {
    "tags": []
   },
   "outputs": [],
   "source": [
    "bipolar_amacrine_df = query_synapses(pre_ids=[504403158272810861, 504403158271095812], post_ids=[504403158272810861, 504403158271095812])\n",
    "bipolar_amacrine_df"
   ]
  },
  {
   "cell_type": "code",
   "execution_count": null,
   "metadata": {
    "tags": []
   },
   "outputs": [],
   "source": [
    "df2ng(bipolar_amacrine_df)"
   ]
  },
  {
   "cell_type": "markdown",
   "metadata": {},
   "source": [
    "That autapse looks like an assignment error, but the other two seem correct. Looks like a missed assignment here: https://spelunker.cave-explorer.org/#!middleauth+https://global.daf-apis.com/nglstate/api/v1/6585522760712192  \n",
    "\n",
    "If you look at all the outputs for that bipolar cell, that ribbon has no assignments, so should probably be investigated: https://spelunker.cave-explorer.org/#!middleauth+https://global.daf-apis.com/nglstate/api/v1/6585522760712192"
   ]
  },
  {
   "cell_type": "markdown",
   "metadata": {},
   "source": [
    "## Modifying the data\n",
    "\n",
    "There are two ways you might want to modify the synapse data: adding new synapses, or \"deleting\" (marking invalid) existing synapses.  Let's look at each of these in turn."
   ]
  },
  {
   "cell_type": "markdown",
   "metadata": {},
   "source": [
    "### Marking a synapse invalid\n",
    "\n",
    "To \"delete\" a synapse — which really just sets `valid=False` for that row in the database — call `client.annotation.delete_annotation` with the name of the table, and a list of synapse IDs.\n",
    "\n",
    "I'll demonstrate here using one of our _old_ (version 1) synapse tables, so I don't mess up current synapses."
   ]
  },
  {
   "cell_type": "code",
   "execution_count": null,
   "metadata": {},
   "outputs": [],
   "source": [
    "client.annotation.delete_annotation('ipl_inhib_synapses', [66964])"
   ]
  },
  {
   "cell_type": "markdown",
   "metadata": {},
   "source": [
    "### Adding a new synapse\n",
    "\n",
    "This can be done via \"staged annotations\" (https://caveclient.readthedocs.io/en/latest/guide/annotation.html#staged-annotations).\n",
    "\n",
    "But we should probably make a function to do this for you, given a NG state."
   ]
  },
  {
   "cell_type": "code",
   "execution_count": null,
   "metadata": {},
   "outputs": [],
   "source": []
  }
 ],
 "metadata": {
  "interpreter": {
   "hash": "7147ceb46cd60446d042f7ba68ae33d5830ac43d4aa6f75ed386efb686ab2039"
  },
  "kernelspec": {
   "display_name": "Python 3 (ipykernel)",
   "language": "python",
   "name": "python3"
  },
  "language_info": {
   "codemirror_mode": {
    "name": "ipython",
    "version": 3
   },
   "file_extension": ".py",
   "mimetype": "text/x-python",
   "name": "python",
   "nbconvert_exporter": "python",
   "pygments_lexer": "ipython3",
   "version": "3.11.10"
  }
 },
 "nbformat": 4,
 "nbformat_minor": 4
}
